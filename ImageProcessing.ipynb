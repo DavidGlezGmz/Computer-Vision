{
  "nbformat": 4,
  "nbformat_minor": 0,
  "metadata": {
    "colab": {
      "name": "ImageProcessing.ipynb",
      "provenance": [],
      "private_outputs": true,
      "mount_file_id": "1_1nmiRKsfXDCzNTlopfLDEoAUOtsLWw4",
      "authorship_tag": "ABX9TyOtL4gDUa0IW42U5I40r+FY",
      "include_colab_link": true
    },
    "kernelspec": {
      "name": "python3",
      "display_name": "Python 3"
    },
    "language_info": {
      "name": "python"
    },
    "accelerator": "GPU"
  },
  "cells": [
    {
      "cell_type": "markdown",
      "metadata": {
        "id": "view-in-github",
        "colab_type": "text"
      },
      "source": [
        "<a href=\"https://colab.research.google.com/github/DavidGlezGmz/Computer-Vision/blob/main/ImageProcessing.ipynb\" target=\"_parent\"><img src=\"https://colab.research.google.com/assets/colab-badge.svg\" alt=\"Open In Colab\"/></a>"
      ]
    },
    {
      "cell_type": "code",
      "source": [
        "import numpy as np\n",
        "import pandas as pd\n",
        "import matplotlib.pyplot as plt\n",
        "import requests\n",
        "\n",
        "from skimage import io\n",
        "from PIL import Image "
      ],
      "metadata": {
        "id": "rcHLZDQw2rbG"
      },
      "execution_count": null,
      "outputs": []
    },
    {
      "cell_type": "code",
      "execution_count": null,
      "metadata": {
        "id": "x_f-_0r5uw7x"
      },
      "outputs": [],
      "source": [
        "url = 'https://raw.githubusercontent.com/DavidGlezGmz/Computer-Vision/main/Images/bmwi4_50.jpg'\n",
        "I = io.imread(url) \n",
        "plt.figure(figsize=(15,10))\n",
        "plt.imshow(I)"
      ]
    },
    {
      "cell_type": "code",
      "source": [
        "I.shape"
      ],
      "metadata": {
        "id": "LVKWtxMr08Kq"
      },
      "execution_count": null,
      "outputs": []
    },
    {
      "cell_type": "code",
      "source": [
        "plt.imshow(I[:,:,0],cmap='Blues')"
      ],
      "metadata": {
        "id": "m3oVuV1r0-8j"
      },
      "execution_count": null,
      "outputs": []
    },
    {
      "cell_type": "code",
      "source": [
        "plt.imshow(I[:,:,2],cmap='Greens')"
      ],
      "metadata": {
        "id": "iAAZIAQ-1Aac"
      },
      "execution_count": null,
      "outputs": []
    },
    {
      "cell_type": "code",
      "source": [
        "plt.imshow(I[:,:,1],cmap='Reds')\n"
      ],
      "metadata": {
        "id": "cemOgkLx1Tgl"
      },
      "execution_count": null,
      "outputs": []
    },
    {
      "cell_type": "code",
      "source": [
        "BW=np.mean(I, axis=2)"
      ],
      "metadata": {
        "id": "9vtwpheh4rYY"
      },
      "execution_count": null,
      "outputs": []
    },
    {
      "cell_type": "code",
      "source": [
        "plt.imshow(BW, cmap='gray')"
      ],
      "metadata": {
        "id": "h9dW-LG84xbi"
      },
      "execution_count": null,
      "outputs": []
    },
    {
      "cell_type": "code",
      "source": [
        "BW.shape"
      ],
      "metadata": {
        "id": "M3Lb7twV4WL5"
      },
      "execution_count": null,
      "outputs": []
    },
    {
      "cell_type": "code",
      "source": [
        "I_contrast = I**1.8/255"
      ],
      "metadata": {
        "id": "OtpDqli64Yqr"
      },
      "execution_count": null,
      "outputs": []
    },
    {
      "cell_type": "code",
      "source": [
        "plt.imshow(I_contrast)"
      ],
      "metadata": {
        "id": "FkaoWa3A4byQ"
      },
      "execution_count": null,
      "outputs": []
    },
    {
      "cell_type": "code",
      "source": [
        "Ip = io.imread(url)"
      ],
      "metadata": {
        "id": "JD4JBSIg5By6"
      },
      "execution_count": null,
      "outputs": []
    },
    {
      "cell_type": "code",
      "source": [
        "Irez = Ip.resize((220,190),)"
      ],
      "metadata": {
        "id": "ewaC6H8j5OpV"
      },
      "execution_count": null,
      "outputs": []
    },
    {
      "cell_type": "code",
      "source": [
        "Irez"
      ],
      "metadata": {
        "id": "lUk_LR7Z5gFa"
      },
      "execution_count": null,
      "outputs": []
    },
    {
      "cell_type": "code",
      "source": [
        "plt.plot(Ip.histogram())"
      ],
      "metadata": {
        "id": "uUUIoeG85yWx"
      },
      "execution_count": null,
      "outputs": []
    },
    {
      "cell_type": "code",
      "source": [
        "def discrete2DConvolution(Image, filter, padding):\n",
        "  paddedImage = np.pad(Image, padding, \"constant\")\n",
        "  flter = np.rot90(filter,2)\n",
        "  conv = np.empty(Image.shape)\n",
        "\n",
        "  for i in range(paddedImage.shape[0]- flter.shape[0]):\n",
        "    for j in range(paddedImage.shape[1]-flter.shape[1]):\n",
        "      conv[i,j] = np.sum((paddedImage[i:i+flter.shape[0], j:j+flter.shape[1]])*flter)\n",
        "  \n",
        "  return conv"
      ],
      "metadata": {
        "id": "x8lts2_06jsN"
      },
      "execution_count": null,
      "outputs": []
    },
    {
      "cell_type": "code",
      "source": [
        "flterXX=np.array([[0,1,0],[0,1,0],[0,1,0]])\n",
        "flterNeg=np.array([[-10,1,-1],[-1,1,-1],[-1,1,-1]])\n",
        "flterREdge=np.array([[-10,0,10],[-10,0,10],[-10,0,10]])"
      ],
      "metadata": {
        "id": "oi1Hxn_m8nsM"
      },
      "execution_count": null,
      "outputs": []
    },
    {
      "cell_type": "code",
      "source": [
        "plt.imshow(flterREdge)"
      ],
      "metadata": {
        "id": "5Lh5Qifn8urR"
      },
      "execution_count": null,
      "outputs": []
    },
    {
      "cell_type": "code",
      "source": [
        "flterLEdge = np.array([[10,0,-10],[10,0,-10],[10,0,-10]])\n",
        "plt.imshow(flterLEdge)"
      ],
      "metadata": {
        "id": "ytQBsixS86fg"
      },
      "execution_count": null,
      "outputs": []
    },
    {
      "cell_type": "code",
      "source": [
        "I_conv = discrete2DConvolution(BW, flterREdge, 1)"
      ],
      "metadata": {
        "id": "KIcITJvT9hg4"
      },
      "execution_count": null,
      "outputs": []
    },
    {
      "cell_type": "code",
      "source": [
        "plt.imshow(I_conv, cmap='gray')"
      ],
      "metadata": {
        "id": "62_pcs7v9r7Y"
      },
      "execution_count": null,
      "outputs": []
    },
    {
      "cell_type": "code",
      "source": [
        "def MaxPool(Image, kSize, stride):\n",
        "  n=0\n",
        "  k=0\n",
        "  vert = int(Image.shape[1]/stride)\n",
        "  hoz = int (Image.shape[0]/stride)\n",
        "  MaxPool = np.empty((hoz, vert))\n",
        "\n",
        "  for i in range(0, Image.shape[0]-stride, stride):\n",
        "    n=0\n",
        "    for j in range(0, Image.shape[1]-stride, stride):\n",
        "      MaxPool[k,n] = np.max(Image[i:i+kSize, j:j+kSize])\n",
        "      n+=1\n",
        "    k+=1\n",
        "  \n",
        "  return MaxPool"
      ],
      "metadata": {
        "id": "45q4rA4W0lCX"
      },
      "execution_count": null,
      "outputs": []
    },
    {
      "cell_type": "code",
      "source": [
        "ImPool = MaxPool(BW,2,2)\n",
        "plt.figure(figsize=(15,10))\n",
        "plt.imshow(ImPool, cmap='gray')"
      ],
      "metadata": {
        "id": "PZObJcVX1nFw"
      },
      "execution_count": null,
      "outputs": []
    },
    {
      "cell_type": "code",
      "source": [
        "ImPool = MaxPool(ImPool,2,1)\n",
        "plt.figure(figsize=(15,10))\n",
        "plt.imshow(ImPool, cmap='gray')"
      ],
      "metadata": {
        "id": "ThrysixT6yoV"
      },
      "execution_count": null,
      "outputs": []
    },
    {
      "cell_type": "code",
      "source": [
        "ImPool_ledge = MaxPool(I_conv,4,4)\n",
        "plt.figure(figsize=(15,10))\n",
        "plt.imshow(ImPool_ledge, cmap='gray')"
      ],
      "metadata": {
        "id": "RUy-2a3g6BSE"
      },
      "execution_count": null,
      "outputs": []
    }
  ]
}